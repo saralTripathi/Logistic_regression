{
  "nbformat": 4,
  "nbformat_minor": 0,
  "metadata": {
    "colab": {
      "provenance": []
    },
    "kernelspec": {
      "name": "python3",
      "display_name": "Python 3"
    },
    "language_info": {
      "name": "python"
    }
  },
  "cells": [
    {
      "cell_type": "markdown",
      "source": [
        "1. What is Logistic Regression, and how does it differ from Linear Regression.\n",
        "    \n",
        "   -  Logistic Regression and Linear Regression are both statistical methods used to model relationships between variables, but they serve different purposes and are used in different contexts.\n",
        "   - Logistic Regression is a classification algorithm used to predict the probability of a binary outcome (e.g., yes/no, 0/1, spam/not spam).\n",
        "      - It models the log-odds of the probability of the outcome as a linear combination of the input variables.\n",
        "      - The output is passed through a sigmoid function (also called logistic function), which squashes it into a range between 0 and 1.\n",
        "   - Linear Regression is a regression algorithm used to predict a continuous output (e.g., price, temperature, score) based on input variables.\n",
        "      -  It tries to find the best-fitting straight line through the data.\n",
        "      -  The relationship is modeled as a linear combination of the inputs.\n",
        "  - Use Linear Regression when your output is numeric and continuous.\n",
        "  - Use Logistic Regression when your output is categorical and binary.\n",
        "\n",
        "\n",
        "2. What is the mathematical equation of Logistic Regression.\n",
        "   - P(y=1/x) = 1/(1+e^-z)\n",
        "3. Why do we use the Sigmoid function in Logistic Regression.\n",
        "   - We use the sigmoid function in logistic regression because:\n",
        "        - It squashes the raw output into a range suitable for probability interpretation.\n",
        "        - It's mathematically convenient for training (differentiable),\n",
        "        - And it aligns with the goal of classification (especially binary classification).\n",
        "\n",
        "\n",
        "4. What is the cost function of Logistic Regression.\n",
        "   - The cost function of logistic regression measures how well the model's predicted probabilities match the actual class labels. Since logistic regression deals with classification and outputs probabilities, we cannot use the Mean Squared Error (MSE) like in linear regression. Instead, we use the Log Loss or Binary Cross-Entropy Loss.\n",
        "   - the cost function for a single training example is:\n",
        "\n",
        "Cost\n",
        "(\n",
        "𝑦\n",
        "^\n",
        ",\n",
        "𝑦\n",
        ")\n",
        "=\n",
        "−\n",
        "[\n",
        "𝑦\n",
        "⋅\n",
        "log\n",
        "⁡\n",
        "(\n",
        "𝑦\n",
        "^\n",
        ")\n",
        "+\n",
        "(\n",
        "1\n",
        "−\n",
        "𝑦\n",
        ")\n",
        "⋅\n",
        "log\n",
        "⁡\n",
        "(\n",
        "1\n",
        "−\n",
        "𝑦\n",
        "^\n",
        ")\n",
        "]\n",
        "\n",
        "5. What is Regularization in Logistic Regression? Why is it needed.\n",
        "   - Regularization is a technique used in logistic regression (and other machine learning models) to prevent overfitting by discouraging overly complex models.\n",
        "   - In logistic regression, regularization works by adding a penalty term to the cost function to shrink the model’s coefficients (weights). This helps the model generalize better to unseen data.\n",
        "   - Without regularization:\n",
        "        - The model might learn very large weights to fit the training data perfectly.\n",
        "        - This can lead to overfitting, where the model performs well on training data but poorly on test data.\n",
        "        - Regularization helps keep the model simpler and more generalizable.\n",
        "6. Explain the difference between Lasso, Ridge, and Elastic Net regressionC\n",
        "   - 1. Ridge Regression (L2 Regularization):\n",
        "          - Shrinks coefficients toward zero, but never exactly zero\n",
        "          - Keeps all features but reduces their influence\n",
        "          - Works well when all features are relevant and multicollinearity is present\n",
        "          - You have many small/medium-sized effects,You don’t want to remove any features completely\n",
        "  -  2. Lasso Regression (L1 Regularization):\n",
        "           - Can shrink some coefficients exactly to zero\n",
        "           - Performs feature selection by eliminating irrelevant variables\n",
        "           - Can result in sparse models\n",
        "           - You suspect only a few features are important\n",
        "           - You want a model that's easy to interpret\n",
        "  - 3. Elastic Net Regression (L1 + L2 Regularization):\n",
        "           - 𝜆 controls overall strength of regularization.\n",
        "           - Combines the benefits of both Lasso and Ridge\n",
        "           - Useful when you have many correlated features\n",
        "           - Can perform both shrinkage and feature selection\n",
        "           - You want flexibility between Lasso and Ridge\n",
        "           - Features are highly correlated\n",
        "\n",
        "7. When should we use Elastic Net instead of Lasso or Ridge.\n",
        "   - Use Elastic Net When:\n",
        "       - Features Are Highly Correlated\n",
        "       - You Have More Features Than Observations (p > n)\n",
        "       - You Want Feature Selection + Stability\n",
        "       - You’re Not Sure Which to Choose\n",
        "8.What is the impact of the regularization parameter (λ) in Logistic Regression.\n",
        "  - The regularization parameter λ in logistic regression controls the strength of regularization — in other words, how much penalty is applied to the model’s coefficients (weights) during training.\n",
        "  - Larger λ makes the penalty term dominate, pushing weights closer to zero.\n",
        "  - As λ↑:\n",
        "      - Model becomes simpler\n",
        "      - Decision boundary becomes less flexible\n",
        "      - Risk of underfitting increases\n",
        "  - As λ↓:\n",
        "      - Coefficients can grow large\n",
        "      - Model may fit noise in the training data\n",
        "      - Risk of overfitting increases\n",
        "9. What are the key assumptions of Logistic Regression.\n",
        "   - Key Assumptions of Logistic Regression:\n",
        "        - 1. Binary (or categorical) outcome\n",
        "        - 2. Linearity of independent variables and log-odds\n",
        "        - 3. No or little multicollinearity\n",
        "        - 4. Independence of observations\n",
        "        -  5. Large sample size\n",
        "        - 6. Absence of outliers\n",
        "        - 7. Predictors are measured without error\n",
        "10. What are some alternatives to Logistic Regression for classification tasks.\n",
        "    - There are many alternatives to logistic regression for classification tasks, each with its own strengths and suitable use cases. Here are some common ones:\n",
        "        - 1. Decision Trees\n",
        "        - 2. Random Forests\n",
        "        -  3. Support Vector Machines (SVM)\n",
        "        - 4. Naive Bayes\n",
        "11.  What are Classification Evaluation Metrics.\n",
        "     - Classification evaluation metrics are used to measure how well a classification model performs. Since classification predicts categories (like spam vs. not spam), these metrics assess how accurate or effective those predictions are.\n",
        "    - Common Classification Evaluation Metrics\n",
        "        - 1. Accuracy\n",
        "        - 2. Confusion Matrix\n",
        "        - 3. Precision\n",
        "        - 4. Recall (Sensitivity or True Positive Rate)\n",
        "        - 5. F1 Score\n",
        "        - 6. Specificity (True Negative Rate)\n",
        "        - 7. ROC Curve and AUC\n",
        "12.  How does class imbalance affect Logistic Regression.\n",
        "     - Class imbalance happens when one class (usually the \"negative\" or majority class) significantly outnumbers the other (minority) class in your dataset. This imbalance can seriously affect the performance of logistic regression (and other classifiers).\n",
        "    - How Class Imbalance Affects Logistic Regression\n",
        "         - 1. Bias Toward Majority Class\n",
        "         - 2. Skewed Probability Estimates\n",
        "         - 3. Poor Model Calibration\n",
        "         - 4. Evaluation Metrics Can Be Misleading\n",
        "13. What is Hyperparameter Tuning in Logistic Regression.\n",
        "    - Hyperparameter tuning in logistic regression is the process of selecting the best set of hyperparameters (settings that are not learned from data but set before training) to optimize the model’s performance.\n",
        "    - Some common hyperparameters include:\n",
        "        - Regularization parameter λ or inverse C Controls the strength of regularization (how much to penalize large coefficients).\n",
        "        - Type of regularization\n",
        "          Whether to use L1 (Lasso), L2 (Ridge), or Elastic Net.\n",
        "        - Solver\n",
        "          The optimization algorithm used to fit the model (e.g., 'liblinear', 'lbfgs', 'saga').\n",
        "        - Maximum iterations\n",
        "          How many iterations the solver runs before stopping.\n",
        "14. What are different solvers in Logistic Regression? Which one should be used.\n",
        "    - In logistic regression, a solver is the optimization algorithm used to find the best-fitting model parameters (coefficients). Different solvers have different strengths, limitations, and performance characteristics depending on the data size, number of features, and regularization type.\n",
        "    - liblinear: Good for small datasets and L1 regularization.\n",
        "    - lbfgs: Default, efficient, but only L2 penalty.\n",
        "    - newton-cg: Similar to lbfgs, for L2 penalty.\n",
        "    - sag: Fast on large datasets, L2 penalty only.\n",
        "    - saga: Versatile, supports L1, L2, and Elastic Net, good for large datasets\n",
        "15. How is Logistic Regression extended for multiclass classification.\n",
        "    - Logistic regression is naturally a binary classifier, but it can be extended to handle multiclass classification (more than two classes) using strategies like one-vs-rest or softmax regression.\n",
        "    - Common Approaches to Multiclass Logistic Regression:\n",
        "          - 1. One-vs-Rest (OvR) / One-vs-All\n",
        "          - 2. Multinomial Logistic Regression (Softmax Regression)\n",
        "16. What are the advantages and disadvantages of Logistic Regression.\n",
        "    - Advantages of Logistic Regression :\n",
        "         - Simple and easy to implement\n",
        "         - Interpretability\n",
        "         - Probabilistic output\n",
        "         - Works well with linearly separable data\n",
        "         - Less prone to overfitting (with regularization)\n",
        "         - Requires less computational power\n",
        "         - Baseline model\n",
        "    - Disadvantages of Logistic Regression :\n",
        "         - Assumes linearity in the log-odds\n",
        "         - Not suitable for large feature sets without regularization\n",
        "         - Sensitive to outliers\n",
        "         - Poor performance with highly imbalanced classes\n",
        "         - Cannot handle multicollinearity well\n",
        "         - Limited to classification tasks\n",
        "         - Requires careful feature scaling for some solvers\n",
        "\n",
        "17. What are some use cases of Logistic Regression.\n",
        "    - Common Use Cases of Logistic Regression\n",
        "         - 1. Medical Diagnosis\n",
        "         - 2. Credit Scoring and Risk Assessment\n",
        "         - 3. Spam Detection\n",
        "         - 4. Marketing and Customer Churn\n",
        "         - 5. Fraud Detection\n",
        "         - 6. Image Classification (Simple)\n",
        "18. What is the difference between Softmax Regression and Logistic Regression.\n",
        "    - The difference between Logistic Regression and Softmax Regression mostly comes down to the type of classification problem they handle and how they model probabilities.\n",
        "    - Logistic Regression\n",
        "         - Used for binary classification (two classes).\n",
        "         - Models the probability that a given input belongs to one of the two classes using the sigmoid function\n",
        "         - Outputs a single probability (class 1), and the probability for class 0 is 1\n",
        "         - Predicts class labels based on a threshold (usually 0.5).\n",
        "\n",
        "    - Softmax Regression (Multinomial Logistic Regression)\n",
        "         - Used for multiclass classification (more than two classes).\n",
        "         - Generalizes logistic regression by modeling the probability distribution over multiple classes using the softmax function\n",
        "         - Outputs a probability for each class, and all probabilities sum to 1.\n",
        "         - Predicts the class with the highest probability.\n",
        "\n",
        "19. How do we choose between One-vs-Rest (OvR) and Softmax for multiclass classification.\n",
        "    - Choosing between One-vs-Rest (OvR) and Softmax (Multinomial Logistic Regression) for multiclass classification depends on your dataset, model requirements, and performance trade-offs.\n",
        "    - Softmax :\n",
        "         - Better when classes are mutually exclusive and overlapping in features.\n",
        "         - Joint optimization ensures more consistent class separation.\n",
        "         - More compact model.\n",
        "         - All classes handled together, so less interpretability per class.\n",
        "   - OVR:\n",
        "         - OvR becomes computationally heavier (1 model per class).\n",
        "         - Can struggle when classes are similar, since binary classifiers don't coordinate.\n",
        "         - Can produce ambiguous predictions (e.g., multiple classifiers firing \"positive\").\n",
        "         - Easier to interpret each classifier individually.\n",
        "         - Useful if you care about understanding how each class behaves independently.\n",
        "20. How do we interpret coefficients in Logistic Regression?\n",
        "    - The coefficients in logistic regressionIt is interpreted as the change in the log odds of the dependent variable for a one unit change in the independent variable, while all other variables are held constant. Positive coefficients mean that as the independent variable increases, the log odds (and hence the probability) of the dependent variable increases, while negative coefficients mean the opposite.\n",
        "\n",
        "\n",
        "\n",
        "\n",
        "\n",
        "\n",
        "\n",
        "\n",
        "\n",
        "     \n",
        "\n",
        "\n",
        "\n",
        "\n",
        "\n",
        "\n",
        "\n",
        "\n",
        "\n",
        "\n",
        "\n",
        "\n",
        "\n",
        "\n",
        "\n",
        "\n",
        "\n",
        "\n",
        "\n",
        "\n",
        "\n"
      ],
      "metadata": {
        "id": "KKuis-xe4_xs"
      }
    },
    {
      "cell_type": "code",
      "source": [
        "#1.Write a Python program that loads a dataset, splits it into training and testing sets, applies Logistic Regression, and prints the model accuracy?\n",
        "import numpy as np\n",
        "import pandas as pd\n",
        "import matplotlib.pyplot as plt\n",
        "import seaborn as sns\n",
        "\n",
        "import warnings\n",
        "warnings.filterwarnings('ignore')\n",
        "\n",
        "\n",
        "from sklearn.datasets import load_iris\n",
        "data = load_iris()\n",
        "data.feature_names\n",
        "\n",
        "\n",
        "df = pd.DataFrame(data.data,columns = data.feature_names)\n",
        "df\n",
        "\n",
        "df['target'] = data.target\n",
        "df\n",
        "\n",
        "\n",
        "x =df.iloc[:,:-1]\n",
        "y = df.iloc[:,-1]\n",
        "\n",
        "from sklearn.model_selection import train_test_split\n",
        "x_train,x_test,y_train,y_test = train_test_split(x,y,test_size=0.2,random_state=1)\n",
        "\n",
        "x_train.shape,x_test.shape,y_train.shape,y_test.shape\n",
        "\n",
        "from sklearn.linear_model import LogisticRegression\n",
        "model = LogisticRegression()\n",
        "\n",
        "model.fit(x_train,y_train)\n",
        "\n",
        "y_pred = model.predict(x_test)\n",
        "\n",
        "from sklearn.metrics import accuracy_score\n",
        "\n",
        "accuracy_score(y_test,y_pred)\n"
      ],
      "metadata": {
        "colab": {
          "base_uri": "https://localhost:8080/"
        },
        "id": "735c9c8C27Zk",
        "outputId": "a53a0216-6f9a-4b00-f1e2-05e14ba7ff15"
      },
      "execution_count": 15,
      "outputs": [
        {
          "output_type": "execute_result",
          "data": {
            "text/plain": [
              "0.9666666666666667"
            ]
          },
          "metadata": {},
          "execution_count": 15
        }
      ]
    },
    {
      "cell_type": "code",
      "source": [
        "#2.Write a Python program to apply L1 regularization (Lasso) on a dataset using LogisticRegression(penalty='l1') and print the model accuracy.\n",
        "\n",
        "import numpy as np\n",
        "import pandas as pd\n",
        "import matplotlib.pyplot as plt\n",
        "import seaborn as sns\n",
        "\n",
        "import warnings\n",
        "warnings.filterwarnings('ignore')\n",
        "\n",
        "df = sns.load_dataset('mpg')\n",
        "df\n",
        "df.dtypes\n",
        "\n",
        "df.drop(\"name\",axis = 1,inplace = True)\n",
        "df\n",
        "df.isnull().sum()\n",
        "\n",
        "df['horsepower'] = df['horsepower'].fillna(df['horsepower'].median())\n",
        "df.isnull().sum()\n",
        "\n",
        "df.dtypes\n",
        "\n",
        "\n",
        "df['origin'].value_counts()\n",
        "df['origin'] = df['origin'].map({'usa':1,'japan':2,'europe':3})\n",
        "\n",
        "df.dtypes\n",
        "\n",
        "x = df.drop('mpg',axis = 1)\n",
        "y = df['mpg']\n",
        "x\n",
        "y\n",
        "\n",
        "from sklearn.model_selection import train_test_split\n",
        "x_train,x_test,y_train,y_test = train_test_split(x,y,test_size =0.3,random_state=1)\n",
        "x_train.dtypes\n",
        "y_train.dtypes\n",
        "\n",
        "\n",
        "\n",
        "\n",
        "from sklearn.linear_model import  Lasso\n",
        "lasso_regression_model = Lasso(alpha = 0.5)\n",
        "lasso_regression_model\n",
        "\n",
        "lasso_regression_model.fit(x_train,y_train)\n",
        "\n",
        "y_pred = lasso_regression_model.predict(x_test)\n",
        "\n",
        "\n",
        "\n",
        "from sklearn.metrics import accuracy_score\n",
        "\n",
        "#accuracy_score(y_test,y_pred)\n",
        "\n"
      ],
      "metadata": {
        "id": "6oWj02trCwVO"
      },
      "execution_count": null,
      "outputs": []
    },
    {
      "cell_type": "code",
      "source": [
        "#3.Write a Python program to train Logistic Regression with L2 regularization (Ridge) using LogisticRegression(penalty='l2'). Print model accuracy and coefficient.\n",
        "\n",
        "df = sns.load_dataset('mpg')\n",
        "df\n",
        "df.dtypes\n",
        "\n",
        "df.drop(\"name\",axis = 1,inplace = True)\n",
        "df\n",
        "df.isnull().sum()\n",
        "\n",
        "df['horsepower'] = df['horsepower'].fillna(df['horsepower'].median())\n",
        "df.isnull().sum()\n",
        "\n",
        "df.dtypes\n",
        "\n",
        "\n",
        "df['origin'].value_counts()\n",
        "df['origin'] = df['origin'].map({'usa':1,'japan':2,'europe':3})\n",
        "df.dtypes\n",
        "\n",
        "x = df.drop('mpg',axis = 1)\n",
        "y = df['mpg']\n",
        "x\n",
        "y\n",
        "\n",
        "from sklearn.model_selection import train_test_split\n",
        "x_train,x_test,y_train,y_test = train_test_split(x,y,test_size =0.3,random_state=1)\n",
        "x_train.dtypes\n",
        "y_train.dtypes\n",
        "\n",
        "from sklearn.linear_model import  Ridge\n",
        "ridge_regression_model = Ridge(alpha = 0.5)\n",
        "ridge_regression_model\n",
        "\n",
        "ridge_regression_model.fit(x_train,y_train)\n",
        "\n",
        "ridge_regression_model.coef_\n",
        "\n",
        "y_pred = ridge_regression_model.predict(x_test)\n",
        "\n",
        "from sklearn.metrics import accuracy_score,r2_score\n",
        "\n",
        "\n",
        "#accuracy_score(y_test,y_pred)\n",
        "r2_score(y_test,y_pred)\n"
      ],
      "metadata": {
        "colab": {
          "base_uri": "https://localhost:8080/"
        },
        "id": "YonvXkQ9CzIG",
        "outputId": "108c48eb-9064-46de-a14a-12d49177dcbe"
      },
      "execution_count": null,
      "outputs": [
        {
          "output_type": "execute_result",
          "data": {
            "text/plain": [
              "0.83484145995158"
            ]
          },
          "metadata": {},
          "execution_count": 127
        }
      ]
    },
    {
      "cell_type": "code",
      "source": [
        "#4.Write a Python program to train Logistic Regression with Elastic Net Regularization (penalty='elasticnet').\n",
        "df = sns.load_dataset('mpg')\n",
        "df\n",
        "df.dtypes\n",
        "\n",
        "df.drop(\"name\",axis = 1,inplace = True)\n",
        "df\n",
        "df.isnull().sum()\n",
        "\n",
        "df['horsepower'] = df['horsepower'].fillna(df['horsepower'].median())\n",
        "df.isnull().sum()\n",
        "\n",
        "df.dtypes\n",
        "\n",
        "\n",
        "df['origin'].value_counts()\n",
        "df['origin'] = df['origin'].map({'usa':1,'japan':2,'europe':3})\n",
        "df.dtypes\n",
        "\n",
        "x = df.drop('mpg',axis = 1)\n",
        "y = df['mpg']\n",
        "x\n",
        "y\n",
        "\n",
        "from sklearn.model_selection import train_test_split\n",
        "x_train,x_test,y_train,y_test = train_test_split(x,y,test_size =0.3,random_state=1)\n",
        "x_train.dtypes\n",
        "y_train.dtypes\n",
        "\n",
        "from sklearn.linear_model import ElasticNet\n",
        "elastic_net_model = ElasticNet(alpha = 0.5,l1_ratio = 0.5)\n",
        "elastic_net_model\n",
        "\n",
        "elastic_net_model.fit(x_train,y_train)\n",
        "\n",
        "elastic_net_model.coef_\n",
        "\n",
        "elastic_net_model.fit(x_train,y_train)\n",
        "\n",
        "for i,col_name in enumerate(x_train.columns):\n",
        "  print(f\"the coefficient for {col_name} is {elastic_net_model.coef_[i]}\")\n",
        "\n",
        "\n",
        "y_pred_elastic = elastic_net_model.predict(x_test)\n",
        "\n",
        "from sklearn.metrics import accuracy_score,r2_score\n",
        "\n",
        "\n",
        "\n",
        "r2_score(y_test,y_pred_elastic)\n"
      ],
      "metadata": {
        "colab": {
          "base_uri": "https://localhost:8080/"
        },
        "id": "zSs5ReFtDdhA",
        "outputId": "16ddfdcc-3bba-4983-f139-c540ee74e476"
      },
      "execution_count": null,
      "outputs": [
        {
          "output_type": "stream",
          "name": "stdout",
          "text": [
            "the coefficient for cylinders is -0.0\n",
            "the coefficient for displacement is 0.010256833960623796\n",
            "the coefficient for horsepower is -0.015006426577766536\n",
            "the coefficient for weight is -0.007064124199580935\n",
            "the coefficient for acceleration is 0.0\n",
            "the coefficient for model_year is 0.7654887927114817\n",
            "the coefficient for origin is 0.41664126420801906\n"
          ]
        },
        {
          "output_type": "execute_result",
          "data": {
            "text/plain": [
              "0.8324658327986089"
            ]
          },
          "metadata": {},
          "execution_count": 134
        }
      ]
    },
    {
      "cell_type": "code",
      "source": [
        "#5.Write a Python program to train a Logistic Regression model for multiclass classification using multi_class='ovr'.\n",
        "\n",
        "from sklearn.datasets import make_classification\n",
        "x,y = make_classification(n_samples= 1000,n_features = 10,n_redundant=5,n_informative=5,n_classes = 5)\n",
        "\n",
        "from sklearn.model_selection import train_test_split\n",
        "x_train,x_test,y_train,y_test = train_test_split(x,y,test_size = 0.2,random_state = 1)\n",
        "\n",
        "\n",
        "from sklearn.linear_model import LogisticRegression\n",
        "model = LogisticRegression(multi_class = 'ovr')\n",
        "\n",
        "model.fit(x_train,y_train)\n",
        "\n",
        "y_pred =model.predict(x_test)\n",
        "\n",
        "from sklearn.metrics import classification_report,accuracy_score,confusion_matrix\n",
        "print(classification_report(y_test,y_pred))\n",
        "print(confusion_matrix(y_test,y_pred))\n",
        "print(accuracy_score(y_test,y_pred))\n"
      ],
      "metadata": {
        "colab": {
          "base_uri": "https://localhost:8080/"
        },
        "id": "6WiGeyKTN6qv",
        "outputId": "09bdc651-15e0-4435-979c-80d04c3e4128"
      },
      "execution_count": null,
      "outputs": [
        {
          "output_type": "stream",
          "name": "stdout",
          "text": [
            "              precision    recall  f1-score   support\n",
            "\n",
            "           0       0.46      0.64      0.53        33\n",
            "           1       0.55      0.50      0.52        48\n",
            "           2       0.65      0.73      0.69        44\n",
            "           3       0.70      0.72      0.71        39\n",
            "           4       0.33      0.19      0.25        36\n",
            "\n",
            "    accuracy                           0.56       200\n",
            "   macro avg       0.54      0.56      0.54       200\n",
            "weighted avg       0.55      0.56      0.55       200\n",
            "\n",
            "[[21  4  1  3  4]\n",
            " [ 8 24  6  5  5]\n",
            " [ 8  0 32  2  2]\n",
            " [ 2  2  4 28  3]\n",
            " [ 7 14  6  2  7]]\n",
            "0.56\n"
          ]
        }
      ]
    },
    {
      "cell_type": "code",
      "source": [
        "#6.Write a Python program to apply GridSearchCV to tune the hyperparameters (C and penalty) of Logistic Regression. Print the best parameters and accuracy.\n",
        "from sklearn.model_selection import GridSearchCV\n",
        "from sklearn.linear_model import Lasso\n",
        "\n",
        "\n",
        "lasso = Lasso()\n",
        "\n",
        "param_grid = {'alpha':[0.1,0.01,0.001,1,10,100]}\n",
        "\n",
        "param_grid\n",
        "\n",
        "grid_search = GridSearchCV(estimator=lasso,param_grid =param_grid,cv = 5,scoring = 'r2',verbose = 1)\n",
        "grid_search.fit(x_train,y_train)\n",
        "grid_search.best_params_\n",
        "\n",
        "grid_search.best_score_\n",
        "\n",
        "\n",
        "y_pred = grid_search.best_estimator_.predict(x_test)\n",
        "\n",
        "from sklearn.metrics import r2_score\n",
        "r2_score(y_test,y_pred)"
      ],
      "metadata": {
        "colab": {
          "base_uri": "https://localhost:8080/"
        },
        "id": "b61tISVRSzDz",
        "outputId": "e56fa3c5-1f77-4273-9f4c-b531503d5f61"
      },
      "execution_count": null,
      "outputs": [
        {
          "output_type": "stream",
          "name": "stdout",
          "text": [
            "Fitting 5 folds for each of 6 candidates, totalling 30 fits\n"
          ]
        },
        {
          "output_type": "execute_result",
          "data": {
            "text/plain": [
              "0.08131840238977917"
            ]
          },
          "metadata": {},
          "execution_count": 152
        }
      ]
    },
    {
      "cell_type": "code",
      "source": [
        "#7.Write a Python program to evaluate Logistic Regression using Stratified K-Fold Cross-Validation. Print the average accuracy.\n",
        "import numpy as np\n",
        "import pandas as pd\n",
        "import matplotlib.pyplot as plt\n",
        "import seaborn as sns\n",
        "\n",
        "import warnings\n",
        "warnings.filterwarnings('ignore')\n",
        "\n",
        "from sklearn.datasets import load_iris\n",
        "data = load_iris()\n",
        "data.feature_names\n",
        "\n",
        "df = pd.DataFrame(data.data,columns = data.feature_names)\n",
        "df\n",
        "\n",
        "df['target'] = data.target\n",
        "df\n",
        "df = df[df['target']!=2]\n",
        "x = df.iloc[:,:-1]\n",
        "y =df.iloc[:,-1]\n",
        "\n",
        "from sklearn.model_selection import train_test_split\n",
        "x_train,x_test,y_train,y_test = train_test_split(x,y,test_size = 0.2,random_state = 1)\n",
        "\n",
        "\n",
        "from sklearn.linear_model import LogisticRegression\n",
        "model = LogisticRegression()\n",
        "\n",
        "model.fit(x_train,y_train)\n",
        "\n",
        "y_pred = model.predict(x_test)\n",
        "\n",
        "from sklearn.linear_model import LogisticRegressionCV\n",
        "\n",
        "from sklearn.model_selection import KFold\n",
        "\n",
        "cv = KFold(n_splits = 5)\n",
        "\n",
        "from sklearn.model_selection import cross_val_score\n",
        "\n",
        "acc = cross_val_score(model,x_train,y_train,cv = cv,scoring = 'accuracy')\n",
        "\n",
        "acc\n",
        "\n",
        "np.mean(acc)"
      ],
      "metadata": {
        "colab": {
          "base_uri": "https://localhost:8080/"
        },
        "id": "kRNMyjcEXxJL",
        "outputId": "2b4b67f3-2739-4d61-d69e-471a7cb7f1fb"
      },
      "execution_count": null,
      "outputs": [
        {
          "output_type": "execute_result",
          "data": {
            "text/plain": [
              "np.float64(1.0)"
            ]
          },
          "metadata": {},
          "execution_count": 168
        }
      ]
    },
    {
      "cell_type": "code",
      "source": [
        "#Write a Python program to load a dataset from a CSV file, apply Logistic Regression, and evaluate its accuracy.\n",
        "\n",
        "import pandas as pd\n",
        "from sklearn.model_selection import train_test_split\n",
        "from sklearn.linear_model import LogisticRegression\n",
        "from sklearn.metrics import accuracy_score\n",
        "\n",
        "\n",
        "df = pd.read_csv('/content/iris.csv')\n",
        "\n",
        "\n",
        "x = df.drop('species', axis=1)\n",
        "y = df['species']\n",
        "\n",
        "\n",
        "x_train, x_test, y_train, y_test = train_test_split(x, y, test_size=0.2, random_state=1)\n",
        "\n",
        "\n",
        "classifier = LogisticRegression(multi_class='auto', solver='liblinear')\n",
        "\n",
        "classifier.fit(x_train, y_train)\n",
        "\n",
        "y_pred = classifier.predict(x_test)\n",
        "\n",
        "\n",
        "accuracy = accuracy_score(y_test, y_pred)\n",
        "print(f\"Model Accuracy: {accuracy}\")"
      ],
      "metadata": {
        "colab": {
          "base_uri": "https://localhost:8080/"
        },
        "id": "LFmVnIJNfiax",
        "outputId": "4f418238-f6b3-4ae8-fdcc-d92c9439333d"
      },
      "execution_count": null,
      "outputs": [
        {
          "output_type": "stream",
          "name": "stdout",
          "text": [
            "Model Accuracy: 0.8333333333333334\n"
          ]
        }
      ]
    },
    {
      "cell_type": "code",
      "source": [
        "#9. Write a Python program to apply RandomizedSearchCV for tuning hyperparameters (C, penalty, solver) in Logistic Regression. Print the best parameters and accuracy.\n",
        "\n",
        "df = pd.read_csv('/content/iris.csv')\n",
        "\n",
        "\n",
        "x = df.drop('species', axis=1)\n",
        "y = df['species']\n",
        "\n",
        "\n",
        "x_train, x_test, y_train, y_test = train_test_split(x, y, test_size=0.2, random_state=1)\n",
        "\n",
        "\n",
        "classifier = LogisticRegression(multi_class='auto', solver='liblinear')\n",
        "\n",
        "classifier.fit(x_train, y_train)\n",
        "\n",
        "y_pred = classifier.predict(x_test)\n",
        "\n",
        "\n",
        "accuracy = accuracy_score(y_test, y_pred)\n",
        "print(f\"Model Accuracy: {accuracy}\")\n",
        "\n",
        "from sklearn.linear_model import LogisticRegressionCV\n",
        "\n",
        "\n"
      ],
      "metadata": {
        "id": "XqwXnLI3hhqh"
      },
      "execution_count": null,
      "outputs": []
    },
    {
      "cell_type": "code",
      "source": [
        "#10.  Write a Python program to implement One-vs-One (OvO) Multiclass Logistic Regression and print accuracy.\n",
        "import numpy as np\n",
        "import pandas as pd\n",
        "import matplotlib.pyplot as plt\n",
        "import seaborn as sns\n",
        "\n",
        "import warnings\n",
        "warnings.filterwarnings('ignore')\n",
        "from sklearn.datasets import load_iris\n",
        "data = load_iris()\n",
        "x = pd.DataFrame(data.data,columns = data.feature_names)\n",
        "y = pd.Series(data.target,name = 'column')\n",
        "y\n",
        "\n",
        "from sklearn.model_selection import train_test_split\n",
        "x_train,x_test,y_train,y_test = train_test_split(x,y,test_size = 0.20,random_state = 1)\n",
        "\n",
        "from sklearn.linear_model import LogisticRegression\n",
        "logistic_regression_model = LogisticRegression(solver = 'liblinear')\n",
        "\n",
        "from sklearn.multiclass import OneVsOneClassifier\n",
        "ovo_classifier = OneVsOneClassifier(logistic_regression_model)\n",
        "\n",
        "ovo_classifier.fit(x_train,y_train)\n",
        "\n",
        "y_pred = ovo_classifier.predict(x_test)\n",
        "\n",
        "\n",
        "from sklearn.metrics import accuracy_score\n",
        "\n",
        "accuracy = accuracy_score(y_test,y_pred)\n",
        "accuracy"
      ],
      "metadata": {
        "colab": {
          "base_uri": "https://localhost:8080/"
        },
        "id": "BtLRh6Q5EN-G",
        "outputId": "34901c68-52c0-429f-aba3-d6c1c6359811"
      },
      "execution_count": null,
      "outputs": [
        {
          "output_type": "execute_result",
          "data": {
            "text/plain": [
              "0.9666666666666667"
            ]
          },
          "metadata": {},
          "execution_count": 11
        }
      ]
    },
    {
      "cell_type": "code",
      "source": [
        "#11. Write a Python program to train a Logistic Regression model and visualize the confusion matrix for binary classification.\n",
        "\n",
        "from sklearn.datasets import make_classification\n",
        "x,y =make_classification(n_samples = 1000,n_features = 10,n_redundant = 5,n_informative = 5,n_classes = 2)\n",
        "\n",
        "from sklearn.linear_model import LogisticRegression\n",
        "logitic_regression_model = LogisticRegression()\n",
        "\n",
        "from sklearn.model_selection import train_test_split\n",
        "x_train, x_test,y_train,y_test = train_test_split(x,y,test_size=0.20,random_state=1)\n",
        "\n",
        "logitic_regression_model.fit(x_train,y_train)\n",
        "\n",
        "y_pred = logitic_regression_model.predict(x_test)\n",
        "\n",
        "from sklearn.metrics import confusion_matrix,ConfusionMatrixDisplay\n",
        "cm = confusion_matrix(y_test,y_pred)\n",
        "cm\n",
        "\n",
        "\n",
        "disp = ConfusionMatrixDisplay(confusion_matrix=cm)\n",
        "disp.plot()\n",
        "plt.show()"
      ],
      "metadata": {
        "colab": {
          "base_uri": "https://localhost:8080/",
          "height": 449
        },
        "id": "_we3VjhiFftc",
        "outputId": "b6f4301f-c1c5-4181-d55a-aa52af280e93"
      },
      "execution_count": null,
      "outputs": [
        {
          "output_type": "display_data",
          "data": {
            "text/plain": [
              "<Figure size 640x480 with 2 Axes>"
            ],
            "image/png": "[encoded data removed]"
          },
          "metadata": {}
        }
      ]
    },
    {
      "cell_type": "code",
      "source": [
        "#12. Write a Python program to train a Logistic Regression model and evaluate its performance using Precision,Recall, and F1-Score.\n",
        "from sklearn.datasets import make_classification\n",
        "x,y =make_classification(n_samples = 1000,n_features = 10,n_redundant = 5,n_informative = 5,n_classes = 2)\n",
        "\n",
        "from sklearn.linear_model import LogisticRegression\n",
        "logitic_regression_model = LogisticRegression()\n",
        "\n",
        "from sklearn.model_selection import train_test_split\n",
        "x_train, x_test,y_train,y_test = train_test_split(x,y,test_size =0.20,random_state = 1)\n",
        "\n",
        "logitic_regression_model.fit(x_train,y_train)\n",
        "\n",
        "y_pred = logitic_regression_model.predict(x_test)\n",
        "\n",
        "\n",
        "from sklearn.metrics import precision_score, recall_score, f1_score\n",
        "\n",
        "print(precision_score(y_test,y_pred))\n",
        "print(recall_score(y_test,y_pred))\n",
        "print(f1_score(y_test,y_pred))\n"
      ],
      "metadata": {
        "colab": {
          "base_uri": "https://localhost:8080/"
        },
        "id": "CJbe7LexKwu5",
        "outputId": "9100141b-c7ca-4a46-a7b3-42e4321ebd23"
      },
      "execution_count": null,
      "outputs": [
        {
          "output_type": "stream",
          "name": "stdout",
          "text": [
            "0.6727272727272727\n",
            "0.7115384615384616\n",
            "0.6915887850467289\n"
          ]
        }
      ]
    },
    {
      "cell_type": "code",
      "source": [
        "#13. Write a Python program to train a Logistic Regression model on imbalanced data and apply class weights to improve model performance.\n",
        "from sklearn.datasets import make_classification\n",
        "x,y = make_classification(n_samples = 1000,n_features=10,n_redundant= 3,n_informative=5,n_classes=2,random_state = 41,weights=[0.9,0.1])\n",
        "\n",
        "from sklearn.model_selection import train_test_split\n",
        "x_train,x_test,y_train,y_test = train_test_split(x,y,test_size = 0.20,random_state = 1)\n",
        "\n",
        "from sklearn.linear_model import LogisticRegression\n",
        "from sklearn.metrics import precision_score,recall_score,f1_score\n",
        "print(\"Training Logistic Regression WITHOUT class weights:\")\n",
        "model_no_weights = LogisticRegression()\n",
        "model_no_weights.fit(x_train,y_train)\n",
        "y_pred_no_weights = model_no_weights.predict(x_test)\n",
        "\n",
        "print(\"precision\",precision_score(y_test,y_pred_no_weights))\n",
        "print(\"recall\",recall_score(y_test,y_pred_no_weights))\n",
        "print(\"f1_score\",f1_score(y_test,y_pred_no_weights))\n",
        "\n",
        "\n",
        "print(\"Training Logistic Regression WITH class weights:\")\n",
        "model_with_weights = LogisticRegression(class_weight='balanced')\n",
        "model_with_weights.fit(x_train,y_train)\n",
        "y_pred_with_weights = model_with_weights.predict(x_test)\n",
        "\n",
        "print(\"precision\",precision_score(y_test,y_pred_with_weights))\n",
        "print(\"recall\",recall_score(y_test,y_pred_with_weights))\n",
        "print(\"f1_score\",f1_score(y_test,y_pred_with_weights))\n"
      ],
      "metadata": {
        "colab": {
          "base_uri": "https://localhost:8080/"
        },
        "id": "K_f0RUxkLNED",
        "outputId": "18e863eb-a046-4a89-d54d-51ecee9791f5"
      },
      "execution_count": null,
      "outputs": [
        {
          "output_type": "stream",
          "name": "stdout",
          "text": [
            "Training Logistic Regression WITHOUT class weights:\n",
            "precision 0.8421052631578947\n",
            "recall 0.6153846153846154\n",
            "f1_score 0.7111111111111111\n",
            "Training Logistic Regression WITH class weights:\n",
            "precision 0.5\n",
            "recall 0.8076923076923077\n",
            "f1_score 0.6176470588235294\n"
          ]
        }
      ]
    },
    {
      "cell_type": "code",
      "source": [
        "#14. Write a Python program to train Logistic Regression on the Titanic dataset, handle missing values, and evaluate performance.\n",
        "\n",
        "\n",
        "import pandas as pd\n",
        "from sklearn.model_selection import train_test_split\n",
        "from sklearn.linear_model import LogisticRegression\n",
        "from sklearn.metrics import accuracy_score, classification_report, confusion_matrix\n",
        "import seaborn as sns\n",
        "import matplotlib.pyplot as plt\n",
        "\n",
        "df = sns.load_dataset('titanic')\n",
        "\n",
        "\n",
        "df['age'] = df['age'].fillna(df['age'].median())\n",
        "\n",
        "\n",
        "df['embarked'] = df['embarked'].fillna(df['embarked'].mode()[0])\n",
        "df['embark_town'] = df['embark_town'].fillna(df['embark_town'].mode()[0])\n",
        "\n",
        "\n",
        "df.drop('deck', axis=1, inplace=True)\n",
        "\n",
        "\n",
        "df.drop(['alive', 'who', 'adult_male', 'class', 'fare', 'alone'], axis=1, inplace=True)\n",
        "\n",
        "\n",
        "df = pd.get_dummies(df, columns=['sex', 'embarked', 'embark_town'])\n",
        "\n",
        "\n",
        "x = df.drop('survived', axis=1)\n",
        "y = df['survived']\n",
        "\n",
        "x_train, x_test, y_train, y_test = train_test_split(x, y, test_size=0.2, random_state=42)\n",
        "\n",
        "model = LogisticRegression(max_iter=200)\n",
        "\n",
        "\n",
        "model.fit(x_train, y_train)\n",
        "\n",
        "\n",
        "y_pred = model.predict(x_test)\n",
        "\n",
        "\n",
        "accuracy = accuracy_score(y_test, y_pred)\n",
        "print(f\"Model Accuracy: {accuracy:.4f}\")\n",
        "print(\"\\nClassification Report:\")\n",
        "print(classification_report(y_test, y_pred))\n",
        "\n",
        "cm = confusion_matrix(y_test, y_pred)\n",
        "disp = ConfusionMatrixDisplay(confusion_matrix=cm, display_labels=['Did not Survive', 'Survived'])\n",
        "disp.plot()\n",
        "plt.title('Confusion Matrix for Titanic Survival Prediction')\n",
        "plt.show()\n",
        "\n"
      ],
      "metadata": {
        "colab": {
          "base_uri": "https://localhost:8080/",
          "height": 686
        },
        "id": "6AJWDmknOt-3",
        "outputId": "3211f044-7af8-4b20-87fa-d639903a17fd"
      },
      "execution_count": null,
      "outputs": [
        {
          "output_type": "stream",
          "name": "stdout",
          "text": [
            "Model Accuracy: 0.8045\n",
            "\n",
            "Classification Report:\n",
            "              precision    recall  f1-score   support\n",
            "\n",
            "           0       0.82      0.86      0.84       105\n",
            "           1       0.78      0.73      0.76        74\n",
            "\n",
            "    accuracy                           0.80       179\n",
            "   macro avg       0.80      0.79      0.80       179\n",
            "weighted avg       0.80      0.80      0.80       179\n",
            "\n"
          ]
        },
        {
          "output_type": "display_data",
          "data": {
            "text/plain": [
              "<Figure size 640x480 with 2 Axes>"
            ],
            "image/png": "[encoded data removed]"
          },
          "metadata": {}
        }
      ]
    },
    {
      "cell_type": "code",
      "source": [
        "#15.Write a Python program to apply feature scaling (Standardization) before training a Logistic Regression model. Evaluate its accuracy and compare results with and without scaling.\n",
        "import pandas as pd\n",
        "from sklearn.model_selection import train_test_split\n",
        "from sklearn.linear_model import LogisticRegression\n",
        "from sklearn.metrics import accuracy_score\n",
        "from sklearn.preprocessing import StandardScaler\n",
        "from sklearn.datasets import load_iris\n",
        "\n",
        "data = load_iris()\n",
        "x = pd.DataFrame(data.data,columns = data.feature_names)\n",
        "y = pd.Series(data.target,name = 'column')\n",
        "\n",
        "#for simplicity we only take( 0 and 1 )class in target column\n",
        "x = x[y!=2]\n",
        "y = y[y!=2]\n",
        "\n",
        "\n",
        "x_train,x_test,y_train,y_test = train_test_split(x,y,test_size = 0.2,random_state = 1)\n",
        "\n",
        "\n",
        "print(\"Training Logistic Regression WITHOUT Scaling:\")\n",
        "model_no_scaling = LogisticRegression()\n",
        "model_no_scaling.fit(x_train,y_train)\n",
        "y_pred_no_scaling = model_no_scaling.predict(x_test)\n",
        "accuracy_no_scaling = accuracy_score(y_test,y_pred_no_scaling)\n",
        "print(\"Accuracy without scaling:\",accuracy_no_scaling)\n",
        "\n",
        "scaler = StandardScaler()\n",
        "x_train_scaled = scaler.fit_transform(x_train)\n",
        "x_test_scaled = scaler.transform(x_test)\n",
        "\n",
        "print(\"Training Logistic Regression WITH Scaling:\")\n",
        "model_with_scaling = LogisticRegression()\n",
        "model_with_scaling.fit(x_train_scaled,y_train)\n",
        "y_pred_with_scaling = model_with_scaling.predict(x_test_scaled)\n",
        "accuracy_with_scaling = accuracy_score(y_test,y_pred_with_scaling)\n",
        "print(\"Accuracy with scaling:\",accuracy_with_scaling)\n"
      ],
      "metadata": {
        "id": "7yafhBmXVpN1"
      },
      "execution_count": null,
      "outputs": []
    },
    {
      "cell_type": "code",
      "source": [
        "#16. Write a Python program to train Logistic Regression and evaluate its performance using ROC-AUC score.\n",
        "from sklearn.datasets import make_classification\n",
        "x,y = make_classification(n_samples = 1000,n_features=5,n_redundant = 2,n_informative=3,n_classes = 2)\n",
        "\n",
        "from sklearn.model_selection import train_test_split\n",
        "x_train,x_test,y_train,y_test = train_test_split(x,y,test_size = 0.20,random_state = 1)\n",
        "\n",
        "from sklearn.linear_model import LogisticRegression\n",
        "model = LogisticRegression()\n",
        "\n",
        "model.fit(x_train,y_train)\n",
        "\n",
        "y_probes= model.predict_proba(x_test)[:,1]\n",
        "\n",
        "from sklearn.metrics import roc_auc_score\n",
        "roc_auc_score(y_test,y_probes)"
      ],
      "metadata": {
        "colab": {
          "base_uri": "https://localhost:8080/"
        },
        "id": "qpq-TiJCMIDj",
        "outputId": "18a1afb0-251d-4c4f-b0b9-bae55209126f"
      },
      "execution_count": 6,
      "outputs": [
        {
          "output_type": "execute_result",
          "data": {
            "text/plain": [
              "np.float64(0.893060064935065)"
            ]
          },
          "metadata": {},
          "execution_count": 6
        }
      ]
    },
    {
      "cell_type": "code",
      "source": [
        "#17.Write a Python program to train Logistic Regression using a custom learning rate (C=0.5) and evaluate accuracy.\n",
        "from sklearn.datasets import make_classification\n",
        "x,y = make_classification(n_samples =1000,n_features = 5,n_redundant= 3,n_informative = 2,n_classes = 2)\n",
        "\n",
        "from sklearn.model_selection import train_test_split\n",
        "x_train,x_test,y_train,y_test = train_test_split(x,y,test_size= 0.30,random_state = 1)\n",
        "\n",
        "from sklearn.linear_model import LogisticRegression\n",
        "custom_c  = 0.5\n",
        "model = LogisticRegression(C=custom_c)\n",
        "\n",
        "model.fit(x_train,y_train)\n",
        "y_pred = model.predict(x_test)\n",
        "from sklearn.metrics import accuracy_score\n",
        "acc_score = accuracy_score(y_test,y_pred)\n",
        "acc_score\n"
      ],
      "metadata": {
        "colab": {
          "base_uri": "https://localhost:8080/"
        },
        "id": "UqgvFx0bMoFh",
        "outputId": "003b73f8-4c4d-4491-c4fa-35bf6cfc0863"
      },
      "execution_count": 12,
      "outputs": [
        {
          "output_type": "execute_result",
          "data": {
            "text/plain": [
              "0.9933333333333333"
            ]
          },
          "metadata": {},
          "execution_count": 12
        }
      ]
    },
    {
      "cell_type": "code",
      "source": [
        "#18. Write a Python program to train Logistic Regression and identify important features based on model coefficients.\n",
        "from sklearn.datasets import make_classification\n",
        "x,y = make_classification(n_samples =1000,n_features = 5,n_redundant= 3,n_informative = 2,n_classes = 2)\n",
        "feature_names = [f'feature_{i+1}' for i in range(10)]\n",
        "from sklearn.model_selection import train_test_split\n",
        "x_train,x_test,y_train,y_test = train_test_split(x,y,test_size= 0.30,random_state = 1)\n",
        "\n",
        "from sklearn.linear_model import LogisticRegression\n",
        "\n",
        "model = LogisticRegression()\n",
        "\n",
        "model.fit(x_train,y_train)\n",
        "\n",
        "coefficients = model.coef_\n",
        "\n",
        "if coefficients.ndim > 1:\n",
        "  coefficients = coefficients[0]\n",
        "\n",
        "\n",
        "abs_coefficients = np.abs(coefficients)\n",
        "abs_coefficients\n",
        "\n",
        "\n",
        "feature_importance = sorted(zip(abs_coefficients, feature_names), reverse=True)\n",
        "\n",
        "print(\"Feature Importance (based on absolute coefficient value):\")\n",
        "for coef_abs, feature in feature_importance:\n",
        "    print(f\"{feature}: {coef_abs:.4f}\")\n"
      ],
      "metadata": {
        "colab": {
          "base_uri": "https://localhost:8080/"
        },
        "id": "RHRcd4J_NZ5T",
        "outputId": "e919c75a-fed1-47c9-95fc-8313e1743967"
      },
      "execution_count": 20,
      "outputs": [
        {
          "output_type": "stream",
          "name": "stdout",
          "text": [
            "Feature Importance (based on absolute coefficient value):\n",
            "feature_4: 1.7749\n",
            "feature_3: 1.3916\n",
            "feature_5: 0.9641\n",
            "feature_2: 0.4032\n",
            "feature_1: 0.3430\n"
          ]
        }
      ]
    },
    {
      "cell_type": "code",
      "source": [
        "#19.  Write a Python program to train Logistic Regression and evaluate its performance using Cohen’s Kappa Score.\n",
        "from sklearn.datasets import make_classification\n",
        "x,y = make_classification(n_samples =1000,n_features = 5,n_redundant= 3,n_informative = 2,n_classes = 2)\n",
        "\n",
        "from sklearn.model_selection import train_test_split\n",
        "x_train,x_test,y_train,y_test = train_test_split(x,y,test_size= 0.30,random_state = 1)\n",
        "\n",
        "from sklearn.linear_model import LogisticRegression\n",
        "custom_c  = 0.5\n",
        "model = LogisticRegression(C=custom_c)\n",
        "\n",
        "model.fit(x_train,y_train)\n",
        "y_pred = model.predict(x_test)\n",
        "from sklearn.metrics import cohen_kappa_score\n",
        "kappa_score = cohen_kappa_score(y_test,y_pred)\n",
        "kappa_score\n",
        "\n",
        "\n"
      ],
      "metadata": {
        "colab": {
          "base_uri": "https://localhost:8080/"
        },
        "id": "v3-IDeMeQyiG",
        "outputId": "606dff4c-7ca9-47ce-b18a-530da346315d"
      },
      "execution_count": 21,
      "outputs": [
        {
          "output_type": "execute_result",
          "data": {
            "text/plain": [
              "np.float64(0.8999822190611664)"
            ]
          },
          "metadata": {},
          "execution_count": 21
        }
      ]
    },
    {
      "cell_type": "code",
      "source": [
        "#20. Write a Python program to train Logistic Regression and visualize the Precision-Recall Curve for binary classification.\n",
        "!pip install plot_presision_recall_curve\n",
        "from sklearn.datasets import make_classification\n",
        "from sklearn.model_selection import train_test_split\n",
        "from sklearn.linear_model import LogisticRegression\n",
        "from sklearn.metrics import precision_recall_curve,plot_precision_recall_curve\n",
        "import matplotlib.pyplot as plt\n",
        "\n",
        "\n",
        "x, y = make_classification(n_samples=1000, n_features=10, n_redundant=5, n_informative=5, n_classes=2, random_state=1)\n",
        "\n",
        "x_train, x_test, y_train, y_test = train_test_split(x, y, test_size=0.20, random_state=1)\n",
        "\n",
        "\n",
        "logistic_regression_model = LogisticRegression()\n",
        "logistic_regression_model.fit(x_train, y_train)\n",
        "\n",
        "plot_precision_recall_curve(logistic_regression_model, x_test, y_test)\n",
        "plt.title('Precision-Recall Curve')\n",
        "\n",
        "plt.show()\n"
      ],
      "metadata": {
        "id": "j3ZdQjHVSEO6"
      },
      "execution_count": null,
      "outputs": []
    },
    {
      "cell_type": "code",
      "source": [
        "#21. Write a Python program to train Logistic Regression with different solvers (liblinear, saga, lbfgs) and compare their accuracy.\n",
        "from sklearn.datasets import make_classification\n",
        "from sklearn.model_selection import train_test_split\n",
        "from sklearn.linear_model import LogisticRegression\n",
        "from sklearn.metrics import accuracy_score\n",
        "\n",
        "\n",
        "x, y = make_classification(n_samples=1000, n_features=10, n_redundant=5, n_informative=5, n_classes=2, random_state=1)\n",
        "\n",
        "\n",
        "x_train, x_test, y_train, y_test = train_test_split(x, y, test_size=0.20, random_state=1)\n",
        "\n",
        "solvers = ['liblinear', 'lbfgs', 'saga']\n",
        "\n",
        "\n",
        "for solver in solvers:\n",
        "    print(f\"Training with solver: {solver}\")\n",
        "    try:\n",
        "\n",
        "        if solver == 'saga':\n",
        "            model = LogisticRegression(solver=solver, max_iter=2000)\n",
        "        else:\n",
        "             model = LogisticRegression(solver=solver)\n",
        "\n",
        "\n",
        "        model.fit(x_train, y_train)\n",
        "\n",
        "        y_pred = model.predict(x_test)\n",
        "\n",
        "        accuracy = accuracy_score(y_test, y_pred)\n",
        "\n",
        "        print(f\"Accuracy with {solver} solver: {accuracy:.4f}\\n\")\n",
        "\n",
        "    except Exception as e:\n",
        "        print(f\"Could not train with solver {solver} due to error: {e}\\n\")\n"
      ],
      "metadata": {
        "colab": {
          "base_uri": "https://localhost:8080/"
        },
        "id": "lb8tip2SSglx",
        "outputId": "a1c74701-2300-4ac0-f0fc-7d185c44bc6c"
      },
      "execution_count": 33,
      "outputs": [
        {
          "output_type": "stream",
          "name": "stdout",
          "text": [
            "Training with solver: liblinear\n",
            "Accuracy with liblinear solver: 0.8250\n",
            "\n",
            "Training with solver: lbfgs\n",
            "Accuracy with lbfgs solver: 0.8250\n",
            "\n",
            "Training with solver: saga\n",
            "Accuracy with saga solver: 0.8250\n",
            "\n"
          ]
        }
      ]
    },
    {
      "cell_type": "code",
      "source": [
        "#22. Write a Python program to train Logistic Regression and evaluate its performance using Matthews Correlation Coefficient (MCC).\n",
        "from sklearn.datasets import make_classification\n",
        "x,y = make_classification(n_samples =1000,n_features = 5,n_redundant= 3,n_informative = 2,n_classes = 2)\n",
        "\n",
        "from sklearn.model_selection import train_test_split\n",
        "x_train,x_test,y_train,y_test = train_test_split(x,y,test_size= 0.30,random_state = 1)\n",
        "\n",
        "from sklearn.linear_model import LogisticRegression\n",
        "custom_c  = 0.5\n",
        "model = LogisticRegression(C=custom_c)\n",
        "\n",
        "model.fit(x_train,y_train)\n",
        "y_pred = model.predict(x_test)\n",
        "from sklearn.metrics import matthews_corrcoef\n",
        "mcc = matthews_corrcoef(y_test,y_pred)\n",
        "mcc"
      ],
      "metadata": {
        "id": "0XZEW3fGWJLy"
      },
      "execution_count": null,
      "outputs": []
    },
    {
      "cell_type": "code",
      "source": [
        "#23. Write a Python program to train Logistic Regression on both raw and standardized data. Compare their accuracy to see the impact of feature scaling\n",
        "import pandas as pd\n",
        "from sklearn.model_selection import train_test_split\n",
        "from sklearn.linear_model import LogisticRegression\n",
        "from sklearn.metrics import accuracy_score\n",
        "from sklearn.preprocessing import StandardScaler\n",
        "from sklearn.datasets import load_iris\n",
        "\n",
        "\n",
        "data = load_iris()\n",
        "x = pd.DataFrame(data.data, columns=data.feature_names)\n",
        "y = pd.Series(data.target, name='target')\n",
        "\n",
        "\n",
        "x = x[y != 2]\n",
        "y = y[y != 2]\n",
        "\n",
        "x_train, x_test, y_train, y_test = train_test_split(x, y, test_size=0.2, random_state=1)\n",
        "\n",
        "print(\"Training Logistic Regression WITHOUT Scaling:\")\n",
        "model_no_scaling = LogisticRegression()\n",
        "model_no_scaling.fit(x_train, y_train)\n",
        "y_pred_no_scaling = model_no_scaling.predict(x_test)\n",
        "accuracy_no_scaling = accuracy_score(y_test, y_pred_no_scaling)\n",
        "print(\"Accuracy without scaling:\", accuracy_no_scaling)\n",
        "\n",
        "print(\"\\nTraining Logistic Regression WITH Scaling:\")\n",
        "\n",
        "scaler = StandardScaler()\n",
        "\n",
        "\n",
        "x_train_scaled = scaler.fit_transform(x_train)\n",
        "x_test_scaled = scaler.transform(x_test)\n",
        "\n",
        "model_with_scaling = LogisticRegression()\n",
        "model_with_scaling.fit(x_train_scaled, y_train)\n",
        "y_pred_with_scaling = model_with_scaling.predict(x_test_scaled)\n",
        "accuracy_with_scaling = accuracy_score(y_test, y_pred_with_scaling)\n",
        "print(\"Accuracy with scaling:\", accuracy_with_scaling)\n",
        "\n",
        "print(\"\\nComparison:\")\n",
        "print(f\"Accuracy without scaling: {accuracy_no_scaling:.4f}\")\n",
        "print(f\"Accuracy with scaling: {accuracy_with_scaling:.4f}\")\n",
        "\n"
      ],
      "metadata": {
        "colab": {
          "base_uri": "https://localhost:8080/"
        },
        "id": "ZjaeyCd_WM7J",
        "outputId": "41c292f2-2352-4ca7-93d7-5f9258df5a3c"
      },
      "execution_count": 35,
      "outputs": [
        {
          "output_type": "stream",
          "name": "stdout",
          "text": [
            "Training Logistic Regression WITHOUT Scaling:\n",
            "Accuracy without scaling: 1.0\n",
            "\n",
            "Training Logistic Regression WITH Scaling:\n",
            "Accuracy with scaling: 1.0\n",
            "\n",
            "Comparison:\n",
            "Accuracy without scaling: 1.0000\n",
            "Accuracy with scaling: 1.0000\n"
          ]
        }
      ]
    },
    {
      "cell_type": "code",
      "source": [
        "#24. Write a Python program to train Logistic Regression and find the optimal C (regularization strength) using cross-validation.\n",
        "\n",
        "from sklearn.datasets import make_classification\n",
        "x,y = make_classification(n_samples = 1000,n_features=5,n_redundant = 3,n_informative = 2,n_classes = 2)\n",
        "\n",
        "from sklearn.model_selection import train_test_split\n",
        "x_train,x_test,y_train,y_test = train_test_split(x,y,test_size = 0.20,random_state = 1)\n",
        "\n",
        "from sklearn.linear_model import LogisticRegression\n",
        "model = LogisticRegression()\n",
        "from sklearn.model_selection import GridSearchCV\n",
        "\n",
        "params = {'C': [0.001, 0.01, 0.1, 1, 10, 100]}\n",
        "\n",
        "grid =GridSearchCV(model,param_grid = params,cv = 5,scoring = \"accuracy\")\n",
        "\n",
        "grid.fit(x_train,y_train)\n",
        "grid.best_params_\n",
        "grid.best_score_\n",
        "y_pred = grid.best_estimator_.predict(x_test)\n",
        "\n",
        "from sklearn.metrics import accuracy_score\n",
        "acc = accuracy_score(y_test,y_pred)\n",
        "acc\n"
      ],
      "metadata": {
        "colab": {
          "base_uri": "https://localhost:8080/"
        },
        "id": "oKh3nVfEbNzz",
        "outputId": "3095b3d6-5427-4950-86e5-dca6e274da99"
      },
      "execution_count": 41,
      "outputs": [
        {
          "output_type": "execute_result",
          "data": {
            "text/plain": [
              "0.91"
            ]
          },
          "metadata": {},
          "execution_count": 41
        }
      ]
    },
    {
      "cell_type": "code",
      "source": [
        "#25. Write a Python program to train Logistic Regression, save the trained model using joblib, and load it again to make predictions.\n",
        "from sklearn.datasets import make_classification\n",
        "from sklearn.model_selection import train_test_split\n",
        "from sklearn.linear_model import LogisticRegression\n",
        "from sklearn.metrics import accuracy_score\n",
        "import joblib\n",
        "\n",
        "x, y = make_classification(n_samples=1000, n_features=10, n_redundant=5, n_informative=5, n_classes=2, random_state=1)\n",
        "\n",
        "\n",
        "x_train, x_test, y_train, y_test = train_test_split(x, y, test_size=0.20, random_state=1)\n",
        "\n",
        "model = LogisticRegression()\n",
        "model.fit(x_train, y_train)\n",
        "\n",
        "\n",
        "model_filename = 'logistic_regression_model.joblib'\n",
        "joblib.dump(model, model_filename)\n",
        "print(f\"Model saved to {model_filename}\")\n",
        "\n",
        "loaded_model = joblib.load(model_filename)\n",
        "print(f\"Model loaded from {model_filename}\")\n",
        "\n",
        "\n",
        "y_pred_loaded = loaded_model.predict(x_test)\n",
        "\n",
        "\n",
        "accuracy_loaded = accuracy_score(y_test, y_pred_loaded)\n",
        "print(f\"Accuracy of the loaded model: {accuracy_loaded:.4f}\")\n",
        "\n",
        "y_pred_original = model.predict(x_test)\n",
        "print(f\"Are predictions from loaded and original models the same? {np.array_equal(y_pred_loaded, y_pred_original)}\")\n"
      ],
      "metadata": {
        "colab": {
          "base_uri": "https://localhost:8080/"
        },
        "id": "cz62sNtMb3EI",
        "outputId": "7e4abbe4-c138-4c28-c11e-4f34c0f00123"
      },
      "execution_count": 42,
      "outputs": [
        {
          "output_type": "stream",
          "name": "stdout",
          "text": [
            "Model saved to logistic_regression_model.joblib\n",
            "Model loaded from logistic_regression_model.joblib\n",
            "Accuracy of the loaded model: 0.8250\n",
            "Are predictions from loaded and original models the same? True\n"
          ]
        }
      ]
    },
    {
      "cell_type": "code",
      "source": [],
      "metadata": {
        "id": "aol1xj0udaxu"
      },
      "execution_count": null,
      "outputs": []
    }
  ]
}